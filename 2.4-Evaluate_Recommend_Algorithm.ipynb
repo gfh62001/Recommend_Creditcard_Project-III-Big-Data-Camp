{
 "cells": [
  {
   "cell_type": "code",
   "execution_count": 1,
   "metadata": {},
   "outputs": [],
   "source": [
    "import numpy as np\n",
    "import random\n",
    "import pandas as pd\n",
    "from sklearn.metrics.pairwise import cosine_similarity\n",
    "import pymongo\n",
    "import json\n",
    "from sklearn.metrics import mean_squared_error\n",
    "from random import sample\n",
    "import time\n",
    "from scipy.sparse.linalg import svds\n",
    "import matplotlib.pyplot as plt"
   ]
  },
  {
   "cell_type": "code",
   "execution_count": 2,
   "metadata": {},
   "outputs": [],
   "source": [
    "#從xlsx匯入資料\n",
    "rec_data= pd.read_excel(r'./melt_data.xlsx',encoding='utf-16',index_col=0)"
   ]
  },
  {
   "cell_type": "code",
   "execution_count": 3,
   "metadata": {},
   "outputs": [],
   "source": [
    "#sample train test data\n",
    "\n",
    "train_idx=sample(rec_data.index.to_list(),int(len(rec_data)*0.7))\n",
    "train_data=rec_data.loc[train_idx]\n",
    "test_tmp=rec_data.index.isin(train_idx)\n",
    "test_data=rec_data[~test_tmp]"
   ]
  },
  {
   "cell_type": "code",
   "execution_count": 12,
   "metadata": {},
   "outputs": [
    {
     "data": {
      "text/html": [
       "<div>\n",
       "<style scoped>\n",
       "    .dataframe tbody tr th:only-of-type {\n",
       "        vertical-align: middle;\n",
       "    }\n",
       "\n",
       "    .dataframe tbody tr th {\n",
       "        vertical-align: top;\n",
       "    }\n",
       "\n",
       "    .dataframe thead th {\n",
       "        text-align: right;\n",
       "    }\n",
       "</style>\n",
       "<table border=\"1\" class=\"dataframe\">\n",
       "  <thead>\n",
       "    <tr style=\"text-align: right;\">\n",
       "      <th></th>\n",
       "      <th>user</th>\n",
       "      <th>variable</th>\n",
       "      <th>value</th>\n",
       "    </tr>\n",
       "  </thead>\n",
       "  <tbody>\n",
       "    <tr>\n",
       "      <th>104531</th>\n",
       "      <td>1220</td>\n",
       "      <td>台北富邦-台灣大哥大悠遊聯名卡</td>\n",
       "      <td>0</td>\n",
       "    </tr>\n",
       "    <tr>\n",
       "      <th>292297</th>\n",
       "      <td>907</td>\n",
       "      <td>美國運通-長榮航空簽帳白金卡</td>\n",
       "      <td>0</td>\n",
       "    </tr>\n",
       "    <tr>\n",
       "      <th>450779</th>\n",
       "      <td>449</td>\n",
       "      <td>臺灣銀行-導盲犬認同卡</td>\n",
       "      <td>0</td>\n",
       "    </tr>\n",
       "    <tr>\n",
       "      <th>286434</th>\n",
       "      <td>342</td>\n",
       "      <td>星展銀行-飛行世界卡</td>\n",
       "      <td>0</td>\n",
       "    </tr>\n",
       "    <tr>\n",
       "      <th>79959</th>\n",
       "      <td>489</td>\n",
       "      <td>元大銀行-樂遊卡</td>\n",
       "      <td>0</td>\n",
       "    </tr>\n",
       "  </tbody>\n",
       "</table>\n",
       "</div>"
      ],
      "text/plain": [
       "        user         variable  value\n",
       "104531  1220  台北富邦-台灣大哥大悠遊聯名卡      0\n",
       "292297   907   美國運通-長榮航空簽帳白金卡      0\n",
       "450779   449      臺灣銀行-導盲犬認同卡      0\n",
       "286434   342       星展銀行-飛行世界卡      0\n",
       "79959    489         元大銀行-樂遊卡      0"
      ]
     },
     "execution_count": 12,
     "metadata": {},
     "output_type": "execute_result"
    }
   ],
   "source": [
    "train_data.head()"
   ]
  },
  {
   "cell_type": "code",
   "execution_count": 11,
   "metadata": {},
   "outputs": [
    {
     "data": {
      "text/html": [
       "<div>\n",
       "<style scoped>\n",
       "    .dataframe tbody tr th:only-of-type {\n",
       "        vertical-align: middle;\n",
       "    }\n",
       "\n",
       "    .dataframe tbody tr th {\n",
       "        vertical-align: top;\n",
       "    }\n",
       "\n",
       "    .dataframe thead th {\n",
       "        text-align: right;\n",
       "    }\n",
       "</style>\n",
       "<table border=\"1\" class=\"dataframe\">\n",
       "  <thead>\n",
       "    <tr style=\"text-align: right;\">\n",
       "      <th></th>\n",
       "      <th>user</th>\n",
       "      <th>variable</th>\n",
       "      <th>value</th>\n",
       "    </tr>\n",
       "  </thead>\n",
       "  <tbody>\n",
       "    <tr>\n",
       "      <th>0</th>\n",
       "      <td>0</td>\n",
       "      <td>三信銀行-VISA白金卡</td>\n",
       "      <td>0</td>\n",
       "    </tr>\n",
       "    <tr>\n",
       "      <th>2</th>\n",
       "      <td>2</td>\n",
       "      <td>三信銀行-VISA白金卡</td>\n",
       "      <td>0</td>\n",
       "    </tr>\n",
       "    <tr>\n",
       "      <th>4</th>\n",
       "      <td>4</td>\n",
       "      <td>三信銀行-VISA白金卡</td>\n",
       "      <td>0</td>\n",
       "    </tr>\n",
       "    <tr>\n",
       "      <th>5</th>\n",
       "      <td>5</td>\n",
       "      <td>三信銀行-VISA白金卡</td>\n",
       "      <td>0</td>\n",
       "    </tr>\n",
       "    <tr>\n",
       "      <th>6</th>\n",
       "      <td>6</td>\n",
       "      <td>三信銀行-VISA白金卡</td>\n",
       "      <td>0</td>\n",
       "    </tr>\n",
       "  </tbody>\n",
       "</table>\n",
       "</div>"
      ],
      "text/plain": [
       "   user      variable  value\n",
       "0     0  三信銀行-VISA白金卡      0\n",
       "2     2  三信銀行-VISA白金卡      0\n",
       "4     4  三信銀行-VISA白金卡      0\n",
       "5     5  三信銀行-VISA白金卡      0\n",
       "6     6  三信銀行-VISA白金卡      0"
      ]
     },
     "execution_count": 11,
     "metadata": {},
     "output_type": "execute_result"
    }
   ],
   "source": [
    "test_data.head()"
   ]
  },
  {
   "cell_type": "code",
   "execution_count": 4,
   "metadata": {},
   "outputs": [
    {
     "data": {
      "text/html": [
       "<div>\n",
       "<style scoped>\n",
       "    .dataframe tbody tr th:only-of-type {\n",
       "        vertical-align: middle;\n",
       "    }\n",
       "\n",
       "    .dataframe tbody tr th {\n",
       "        vertical-align: top;\n",
       "    }\n",
       "\n",
       "    .dataframe thead th {\n",
       "        text-align: right;\n",
       "    }\n",
       "</style>\n",
       "<table border=\"1\" class=\"dataframe\">\n",
       "  <thead>\n",
       "    <tr style=\"text-align: right;\">\n",
       "      <th>variable</th>\n",
       "      <th>三信銀行-VISA白金卡</th>\n",
       "      <th>上海商銀-TeresaCard</th>\n",
       "      <th>上海商銀-小小兵Bello回饋卡</th>\n",
       "      <th>上海商銀-簡單卡</th>\n",
       "      <th>中國信託-ANA聯名卡</th>\n",
       "      <th>中國信託-LINE Pay卡</th>\n",
       "      <th>中國信託-MUJI無印良品聯名卡</th>\n",
       "      <th>中國信託-Yahoo聯名卡</th>\n",
       "      <th>中國信託-中信兄弟聯名卡</th>\n",
       "      <th>中國信託-中信商旅鈦金卡</th>\n",
       "      <th>...</th>\n",
       "      <th>華南銀行-i網購生活卡</th>\n",
       "      <th>華南銀行-享利樂活Combo卡</th>\n",
       "      <th>華南銀行-大甲媽祖認同卡</th>\n",
       "      <th>華南銀行-旅鑽商務御璽卡</th>\n",
       "      <th>華南銀行-美饌紅利卡</th>\n",
       "      <th>華南銀行-超級現金回饋卡</th>\n",
       "      <th>遠東商銀-Bankee信用卡</th>\n",
       "      <th>遠東商銀-快樂信用卡</th>\n",
       "      <th>陽信銀行-一卡通聯名鈦金卡</th>\n",
       "      <th>陽信銀行-曜晶卡</th>\n",
       "    </tr>\n",
       "    <tr>\n",
       "      <th>user</th>\n",
       "      <th></th>\n",
       "      <th></th>\n",
       "      <th></th>\n",
       "      <th></th>\n",
       "      <th></th>\n",
       "      <th></th>\n",
       "      <th></th>\n",
       "      <th></th>\n",
       "      <th></th>\n",
       "      <th></th>\n",
       "      <th></th>\n",
       "      <th></th>\n",
       "      <th></th>\n",
       "      <th></th>\n",
       "      <th></th>\n",
       "      <th></th>\n",
       "      <th></th>\n",
       "      <th></th>\n",
       "      <th></th>\n",
       "      <th></th>\n",
       "      <th></th>\n",
       "    </tr>\n",
       "  </thead>\n",
       "  <tbody>\n",
       "    <tr>\n",
       "      <th>0</th>\n",
       "      <td>0.0</td>\n",
       "      <td>0.0</td>\n",
       "      <td>0.0</td>\n",
       "      <td>0.0</td>\n",
       "      <td>0.0</td>\n",
       "      <td>1.0</td>\n",
       "      <td>0.0</td>\n",
       "      <td>0.0</td>\n",
       "      <td>0.0</td>\n",
       "      <td>0.0</td>\n",
       "      <td>...</td>\n",
       "      <td>0.0</td>\n",
       "      <td>0.0</td>\n",
       "      <td>0.0</td>\n",
       "      <td>0.0</td>\n",
       "      <td>0.0</td>\n",
       "      <td>0.0</td>\n",
       "      <td>0.0</td>\n",
       "      <td>0.0</td>\n",
       "      <td>0.0</td>\n",
       "      <td>0.0</td>\n",
       "    </tr>\n",
       "    <tr>\n",
       "      <th>1</th>\n",
       "      <td>0.0</td>\n",
       "      <td>0.0</td>\n",
       "      <td>0.0</td>\n",
       "      <td>0.0</td>\n",
       "      <td>0.0</td>\n",
       "      <td>0.0</td>\n",
       "      <td>0.0</td>\n",
       "      <td>0.0</td>\n",
       "      <td>0.0</td>\n",
       "      <td>0.0</td>\n",
       "      <td>...</td>\n",
       "      <td>0.0</td>\n",
       "      <td>0.0</td>\n",
       "      <td>0.0</td>\n",
       "      <td>0.0</td>\n",
       "      <td>0.0</td>\n",
       "      <td>0.0</td>\n",
       "      <td>0.0</td>\n",
       "      <td>0.0</td>\n",
       "      <td>0.0</td>\n",
       "      <td>0.0</td>\n",
       "    </tr>\n",
       "    <tr>\n",
       "      <th>2</th>\n",
       "      <td>0.0</td>\n",
       "      <td>0.0</td>\n",
       "      <td>0.0</td>\n",
       "      <td>0.0</td>\n",
       "      <td>0.0</td>\n",
       "      <td>0.0</td>\n",
       "      <td>0.0</td>\n",
       "      <td>0.0</td>\n",
       "      <td>0.0</td>\n",
       "      <td>0.0</td>\n",
       "      <td>...</td>\n",
       "      <td>0.0</td>\n",
       "      <td>0.0</td>\n",
       "      <td>0.0</td>\n",
       "      <td>0.0</td>\n",
       "      <td>0.0</td>\n",
       "      <td>0.0</td>\n",
       "      <td>0.0</td>\n",
       "      <td>0.0</td>\n",
       "      <td>0.0</td>\n",
       "      <td>0.0</td>\n",
       "    </tr>\n",
       "    <tr>\n",
       "      <th>3</th>\n",
       "      <td>0.0</td>\n",
       "      <td>0.0</td>\n",
       "      <td>0.0</td>\n",
       "      <td>0.0</td>\n",
       "      <td>0.0</td>\n",
       "      <td>0.0</td>\n",
       "      <td>0.0</td>\n",
       "      <td>0.0</td>\n",
       "      <td>0.0</td>\n",
       "      <td>0.0</td>\n",
       "      <td>...</td>\n",
       "      <td>0.0</td>\n",
       "      <td>0.0</td>\n",
       "      <td>0.0</td>\n",
       "      <td>0.0</td>\n",
       "      <td>0.0</td>\n",
       "      <td>0.0</td>\n",
       "      <td>0.0</td>\n",
       "      <td>0.0</td>\n",
       "      <td>0.0</td>\n",
       "      <td>0.0</td>\n",
       "    </tr>\n",
       "    <tr>\n",
       "      <th>4</th>\n",
       "      <td>0.0</td>\n",
       "      <td>0.0</td>\n",
       "      <td>0.0</td>\n",
       "      <td>0.0</td>\n",
       "      <td>0.0</td>\n",
       "      <td>1.0</td>\n",
       "      <td>0.0</td>\n",
       "      <td>0.0</td>\n",
       "      <td>0.0</td>\n",
       "      <td>0.0</td>\n",
       "      <td>...</td>\n",
       "      <td>0.0</td>\n",
       "      <td>0.0</td>\n",
       "      <td>0.0</td>\n",
       "      <td>0.0</td>\n",
       "      <td>0.0</td>\n",
       "      <td>0.0</td>\n",
       "      <td>0.0</td>\n",
       "      <td>0.0</td>\n",
       "      <td>0.0</td>\n",
       "      <td>0.0</td>\n",
       "    </tr>\n",
       "  </tbody>\n",
       "</table>\n",
       "<p>5 rows × 180 columns</p>\n",
       "</div>"
      ],
      "text/plain": [
       "variable  三信銀行-VISA白金卡  上海商銀-TeresaCard  上海商銀-小小兵Bello回饋卡  上海商銀-簡單卡  \\\n",
       "user                                                                  \n",
       "0                  0.0              0.0               0.0       0.0   \n",
       "1                  0.0              0.0               0.0       0.0   \n",
       "2                  0.0              0.0               0.0       0.0   \n",
       "3                  0.0              0.0               0.0       0.0   \n",
       "4                  0.0              0.0               0.0       0.0   \n",
       "\n",
       "variable  中國信託-ANA聯名卡  中國信託-LINE Pay卡  中國信託-MUJI無印良品聯名卡  中國信託-Yahoo聯名卡  \\\n",
       "user                                                                     \n",
       "0                 0.0             1.0               0.0            0.0   \n",
       "1                 0.0             0.0               0.0            0.0   \n",
       "2                 0.0             0.0               0.0            0.0   \n",
       "3                 0.0             0.0               0.0            0.0   \n",
       "4                 0.0             1.0               0.0            0.0   \n",
       "\n",
       "variable  中國信託-中信兄弟聯名卡  中國信託-中信商旅鈦金卡  ...  華南銀行-i網購生活卡  華南銀行-享利樂活Combo卡  \\\n",
       "user                                  ...                                 \n",
       "0                  0.0           0.0  ...          0.0              0.0   \n",
       "1                  0.0           0.0  ...          0.0              0.0   \n",
       "2                  0.0           0.0  ...          0.0              0.0   \n",
       "3                  0.0           0.0  ...          0.0              0.0   \n",
       "4                  0.0           0.0  ...          0.0              0.0   \n",
       "\n",
       "variable  華南銀行-大甲媽祖認同卡  華南銀行-旅鑽商務御璽卡  華南銀行-美饌紅利卡  華南銀行-超級現金回饋卡  \\\n",
       "user                                                             \n",
       "0                  0.0           0.0         0.0           0.0   \n",
       "1                  0.0           0.0         0.0           0.0   \n",
       "2                  0.0           0.0         0.0           0.0   \n",
       "3                  0.0           0.0         0.0           0.0   \n",
       "4                  0.0           0.0         0.0           0.0   \n",
       "\n",
       "variable  遠東商銀-Bankee信用卡  遠東商銀-快樂信用卡  陽信銀行-一卡通聯名鈦金卡  陽信銀行-曜晶卡  \n",
       "user                                                           \n",
       "0                    0.0         0.0            0.0       0.0  \n",
       "1                    0.0         0.0            0.0       0.0  \n",
       "2                    0.0         0.0            0.0       0.0  \n",
       "3                    0.0         0.0            0.0       0.0  \n",
       "4                    0.0         0.0            0.0       0.0  \n",
       "\n",
       "[5 rows x 180 columns]"
      ]
     },
     "execution_count": 4,
     "metadata": {},
     "output_type": "execute_result"
    }
   ],
   "source": [
    "#melt data to df and fillna with 0\n",
    "train_df=train_data.pivot_table(values='value',index='user',columns='variable').fillna(0)\n",
    "train_df.head()"
   ]
  },
  {
   "cell_type": "code",
   "execution_count": 78,
   "metadata": {},
   "outputs": [
    {
     "name": "stdout",
     "output_type": "stream",
     "text": [
      "['中國信託-LINE Pay卡', '台新銀行-FlyGo卡']\n",
      "['中國信託-LINE Pay卡', '台新銀行-@GoGo iCash御璽卡', '花旗銀行-新世代花旗饗樂生活悠遊卡']\n"
     ]
    }
   ],
   "source": [
    "indices = pd.Series(train_df.columns)   #所有卡series\n",
    "#card_index_list=indices[train_df.loc[1]==1]\n",
    "\n",
    "print(train_df.columns[train_df.loc[0]==1].to_list())\n",
    "print(train_df.columns[train_df.loc[1]==1].to_list())"
   ]
  },
  {
   "cell_type": "code",
   "execution_count": 75,
   "metadata": {},
   "outputs": [
    {
     "data": {
      "text/plain": [
       "0.022097786725948296"
      ]
     },
     "execution_count": 75,
     "metadata": {},
     "output_type": "execute_result"
    }
   ],
   "source": [
    "#test data total card\n",
    "len(test_data[test_data['value']==1])/len(test_data)"
   ]
  },
  {
   "cell_type": "markdown",
   "metadata": {},
   "source": [
    "# Item_Based_Evaluate"
   ]
  },
  {
   "cell_type": "code",
   "execution_count": 17,
   "metadata": {},
   "outputs": [],
   "source": [
    "#item_base_rec\n",
    "def CF_Item_Based_Evaluate(train,TopN):\n",
    "    start_time = time.time()\n",
    "\n",
    "    #imput data type:df\n",
    "    #轉置df\n",
    "    traindata=train\n",
    "    traindata_T=traindata.T\n",
    "    #計算各卡間的相似度\n",
    "    card_sim=cosine_similarity(traindata_T,traindata_T)\n",
    "    \n",
    "    #找出已持有卡index\n",
    "    item_rec_list={}\n",
    "    for user in traindata.index:\n",
    "           #所有卡series\n",
    "        my_card=traindata.columns[traindata.loc[user]==1].to_list()#找持有卡\n",
    "        rating=pd.Series(traindata.loc[user].values)\n",
    "        indices = pd.Series(traindata_T.index)\n",
    "        card_index_list=[indices[indices == name].index[0] for name in my_card]  #找出各卡index\n",
    "        weighted_card_rec=np.zeros(len(traindata_T.index))   #創全0且為卡片數量長度的array\n",
    "        for  i in card_index_list:\n",
    "            weighted_card_rec +=card_sim[i]*rating[i]      #將持有卡於其他卡的相似度相加成推薦權重\n",
    "        #排列相似度最高前TopN名卡片\n",
    "        weighted_score=pd.Series(weighted_card_rec).sort_values(ascending = False)\n",
    "        TopN_indexes=weighted_score.iloc[len(my_card):len(my_card)+TopN].index\n",
    "        rec_card=[]\n",
    "        for i in TopN_indexes:\n",
    "            rec_card.append(indices[i])\n",
    "        item_rec_list[user]=rec_card\n",
    "    #calculate TopN in test_data\n",
    "    #test_data user\n",
    "    total_precision=0\n",
    "    total_hit =0\n",
    "    result={}\n",
    "\n",
    "    for user in list(set(test_data['user'])):\n",
    "        user_df=test_data[test_data['user']==user]\n",
    "        user_df_hold=user_df[user_df['value']==1]['variable'].values\n",
    "        hit=sum([1 for item in item_rec_list[user] if item in user_df_hold])\n",
    "        precision=hit/TopN\n",
    "        \n",
    "        total_precision +=precision\n",
    "        total_hit +=hit\n",
    "    result['Precision']=total_precision/len(set(test_data['user']))\n",
    "    \n",
    "    result['Hit']=total_hit/len(set(test_data['user']))\n",
    "    #exec_time= \"--- %s seconds ---\" % (time.time() - start_time)\n",
    "    exec_time= (time.time() - start_time)\n",
    "\n",
    "\n",
    "    return result,exec_time\n"
   ]
  },
  {
   "cell_type": "code",
   "execution_count": 84,
   "metadata": {},
   "outputs": [
    {
     "data": {
      "image/png": "[encoded data removed]",
      "text/plain": [
       "<Figure size 432x288 with 1 Axes>"
      ]
     },
     "metadata": {
      "needs_background": "light"
     },
     "output_type": "display_data"
    }
   ],
   "source": [
    "freq=[sum(train_df.loc[i]) for i in train_df.index]\n",
    "plt.hist(freq, bins=np.arange(min(freq), max(freq)+1))\n",
    "plt.xlabel('number of holding card')\n",
    "plt.ylabel('freq')\n",
    "\n",
    "plt.savefig('number_of_hold_card.jpg')\n",
    "plt.show()"
   ]
  },
  {
   "cell_type": "code",
   "execution_count": 87,
   "metadata": {},
   "outputs": [
    {
     "data": {
      "text/plain": [
       "2.0     820\n",
       "3.0     572\n",
       "1.0     483\n",
       "4.0     301\n",
       "5.0     168\n",
       "0.0      97\n",
       "6.0      83\n",
       "7.0      46\n",
       "8.0      24\n",
       "10.0     20\n",
       "9.0      18\n",
       "12.0      6\n",
       "11.0      5\n",
       "13.0      2\n",
       "20.0      1\n",
       "15.0      1\n",
       "25.0      1\n",
       "22.0      1\n",
       "dtype: int64"
      ]
     },
     "execution_count": 87,
     "metadata": {},
     "output_type": "execute_result"
    }
   ],
   "source": [
    "#pd.crosstab(index=freq,columns='count')\n",
    "pd.value_counts(freq)"
   ]
  },
  {
   "cell_type": "code",
   "execution_count": null,
   "metadata": {},
   "outputs": [],
   "source": [
    "k=[1,3]\n",
    "k.extend(list(range(5,31,5)))\n",
    "precision_i=[]\n",
    "time_i=[]\n",
    "for i in [3]:\n",
    "    precision_i.append(CF_Item_Based_Evaluate(train_df,i,5)[0]['Precision'])\n",
    "    time_i.append(CF_Item_Based_Evaluate(train_df,i,5)[1])\n",
    "print(precision_i)\n",
    "print(time_i)"
   ]
  },
  {
   "cell_type": "code",
   "execution_count": null,
   "metadata": {},
   "outputs": [],
   "source": []
  },
  {
   "cell_type": "code",
   "execution_count": 18,
   "metadata": {},
   "outputs": [
    {
     "data": {
      "text/plain": [
       "({'Precision': 0.10985277463193488, 'Hit': 0.549263873159683},\n",
       " 13.384170293807983)"
      ]
     },
     "execution_count": 18,
     "metadata": {},
     "output_type": "execute_result"
    }
   ],
   "source": [
    "CF_Item_Based_Evaluate(train_df,5)"
   ]
  },
  {
   "cell_type": "code",
   "execution_count": 25,
   "metadata": {},
   "outputs": [
    {
     "data": {
      "text/plain": [
       "({'Precision': 0.14508619604882256, 'Hit': 0.4352585881464704},\n",
       " '--- 22.2863028049469 seconds ---')"
      ]
     },
     "execution_count": 25,
     "metadata": {},
     "output_type": "execute_result"
    }
   ],
   "source": [
    "CF_Item_Based_Evaluate(train_df,3)"
   ]
  },
  {
   "cell_type": "code",
   "execution_count": 109,
   "metadata": {},
   "outputs": [
    {
     "data": {
      "text/plain": [
       "3161"
      ]
     },
     "execution_count": 109,
     "metadata": {},
     "output_type": "execute_result"
    }
   ],
   "source": [
    "len(test_data[test_data['value']==1])"
   ]
  },
  {
   "cell_type": "markdown",
   "metadata": {},
   "source": [
    "#  User_Based"
   ]
  },
  {
   "cell_type": "code",
   "execution_count": 7,
   "metadata": {},
   "outputs": [],
   "source": [
    "def CF_User_Based_Evaluate(train,NeighborN,TopN):\n",
    "    #imput data type:my_card=['上海商銀-小小兵Bello回饋卡','中國信託-ANA聯名卡']\n",
    "    start_time = time.time()\n",
    "    traindata=train\n",
    "    \n",
    "\n",
    "    #user與其他user計算cosine相似度\n",
    "    user_sim_array=cosine_similarity(train_df,train_df)\n",
    "    user_rec_list={}\n",
    "    for user in traindata.index:\n",
    "        sim_value_sort=pd.Series(user_sim_array[user]).sort_values(ascending = False)\n",
    "    # df_m2m = pd.DataFrame(cosine_similarity(df))\n",
    "        topN_sim_user={}\n",
    "        \n",
    "        for idx,v in sim_value_sort.iteritems():\n",
    "            if len(topN_sim_user)<NeighborN:     #topN_sim_user\n",
    "                topN_sim_user[idx]=v  \n",
    "\n",
    "        weighted_card_rec=np.zeros(len(traindata.columns))\n",
    "        #相似權重相加\n",
    "        for i in topN_sim_user:\n",
    "            #print(i)\n",
    "            weighted_card_rec+= traindata.loc[i]*topN_sim_user[i]\n",
    "              \n",
    "        #未持有的卡推薦  \n",
    "        recommend_card=[]\n",
    "        weighted_card_rec_sort=weighted_card_rec.sort_values(ascending=False)\n",
    "        for card,value in weighted_card_rec_sort.iteritems():\n",
    "                if value >0:\n",
    "                    if train_df.loc[user,card]==0 and len(recommend_card) <TopN:\n",
    "                                      recommend_card.append(card)\n",
    "        user_rec_list[user]=recommend_card\n",
    "    total_precision=0\n",
    "    total_hit =0\n",
    "    result={}\n",
    "\n",
    "    for user in list(set(test_data['user'])):\n",
    "        user_df=test_data[test_data['user']==user]\n",
    "        user_df_hold=user_df[user_df['value']==1]['variable'].values\n",
    "        hit=sum([1 for item in user_rec_list[user] if item in user_df_hold])\n",
    "        precision=hit/TopN\n",
    "        \n",
    "        total_precision +=precision\n",
    "        total_hit +=hit\n",
    "    result['Precision']=total_precision/len(set(test_data['user']))\n",
    "    result['Hit']=total_hit/len(set(test_data['user']))\n",
    "    #exec_time=\"--- %s seconds ---\" % (time.time() - start_time)\n",
    "    exec_time=(time.time() - start_time)\n",
    "\n",
    "    return result,exec_time\n",
    "                    "
   ]
  },
  {
   "cell_type": "code",
   "execution_count": 9,
   "metadata": {},
   "outputs": [
    {
     "name": "stdout",
     "output_type": "stream",
     "text": [
      "[0.0, 0.022801057002642552, 0.034881087202718174, 0.05269913174782955, 0.061834654586636395, 0.06953567383918431, 0.07519818799546955, 0.07942619856549589, 0.08410721026802499, 0.08773121932804759, 0.08803322008304941, 0.09467723669309078]\n",
      "[10.152975797653198, 12.383580684661865, 14.644127368927002, 20.10993194580078, 25.422592639923096, 31.03554081916809, 41.111905336380005, 46.531105041503906, 52.96766805648804, 58.34057974815369, 64.45852661132812, 70.29489326477051]\n"
     ]
    }
   ],
   "source": [
    "k=[1,3]\n",
    "k.extend(list(range(5,51,5)))\n",
    "precision=[]\n",
    "time_k=[]\n",
    "for i in k:\n",
    "    precision.append(CF_User_Based_Evaluate(train_df,i,5)[0]['Precision'])\n",
    "    time_k.append(CF_User_Based_Evaluate(train_df,i,5)[1])\n",
    "print(precision)\n",
    "print(time_k)"
   ]
  },
  {
   "cell_type": "code",
   "execution_count": 35,
   "metadata": {},
   "outputs": [
    {
     "data": {
      "image/png": "[encoded data removed]",
      "text/plain": [
       "<Figure size 432x288 with 2 Axes>"
      ]
     },
     "metadata": {
      "needs_background": "light"
     },
     "output_type": "display_data"
    }
   ],
   "source": [
    "k=[1,3]\n",
    "k.extend(list(range(5,51,5)))\n",
    "t = k\n",
    "time_u = time_k\n",
    "precision_u =precision\n",
    "\n",
    "fig, ax1 = plt.subplots()\n",
    "\n",
    "color = 'tab:red'\n",
    "ax1.set_xlabel('k-users')\n",
    "ax1.set_ylabel('precision', color=color)\n",
    "ax1.plot(t, precision_u, color=color)\n",
    "ax1.tick_params(axis='y', labelcolor=color)\n",
    "\n",
    "ax2 = ax1.twinx()  # instantiate a second axes that shares the same x-axis\n",
    "\n",
    "color = 'tab:blue'\n",
    "ax2.set_ylabel('time', color=color)  # we already handled the x-label with ax1\n",
    "ax2.plot(t, time_u, color=color)\n",
    "ax2.tick_params(axis='y', labelcolor=color)\n",
    "\n",
    "fig.tight_layout()  # otherwise the right y-label is slightly clipped\n",
    "plt.savefig('user_based_timeacc.jpg')\n",
    "plt.show()"
   ]
  },
  {
   "cell_type": "code",
   "execution_count": 128,
   "metadata": {},
   "outputs": [
    {
     "data": {
      "text/plain": [
       "({'Precision': 0.10856927142317693, 'Hit': 0.5428463571158928},\n",
       " '--- 118.11028790473938 seconds ---')"
      ]
     },
     "execution_count": 128,
     "metadata": {},
     "output_type": "execute_result"
    }
   ],
   "source": [
    "CF_User_Based_Evaluate(train_df,100,5)\n",
    "\n",
    "#train_df.loc[user,card]==0\n",
    "#user_df=train_df[train_df['user']==1]\n",
    "#user_df['中國信託-ANA聯名卡'] == 1"
   ]
  },
  {
   "cell_type": "code",
   "execution_count": 130,
   "metadata": {},
   "outputs": [
    {
     "data": {
      "text/plain": [
       "({'Precision': 0.033069082672706814, 'Hit': 0.16534541336353342},\n",
       " '--- 14.566324710845947 seconds ---')"
      ]
     },
     "execution_count": 130,
     "metadata": {},
     "output_type": "execute_result"
    }
   ],
   "source": [
    "CF_User_Based_Evaluate(train_df,5,5)"
   ]
  },
  {
   "cell_type": "code",
   "execution_count": 22,
   "metadata": {},
   "outputs": [
    {
     "data": {
      "text/plain": [
       "({'Precision': 0.04454511136277829, 'Hit': 0.13363533408833522},\n",
       " '--- 26.654712677001953 seconds ---')"
      ]
     },
     "execution_count": 22,
     "metadata": {},
     "output_type": "execute_result"
    }
   ],
   "source": [
    "CF_User_Based_Evaluate(train_df,5,3)"
   ]
  },
  {
   "cell_type": "markdown",
   "metadata": {},
   "source": [
    "# SVD_Evaluate"
   ]
  },
  {
   "cell_type": "code",
   "execution_count": 30,
   "metadata": {},
   "outputs": [],
   "source": [
    "def SVD_Rec_Evaluate(user_matrix,k,TopN):\n",
    "    start_time = time.time()\n",
    "    train_df=user_matrix\n",
    "    train_mx=train_df.as_matrix()\n",
    "    user_mean=np.mean(train_mx,axis=1)\n",
    "    user_array=train_mx-user_mean.reshape(-1,1)\n",
    "    U, sigma, Vt = svds(train_mx, k = k)\n",
    "    U, sigma, Vt = svds(user_array, k = k)\n",
    "    sigma = np.diag(sigma)\n",
    "    all_user_predicted_ratings = np.dot(np.dot(U, sigma), Vt) + user_mean.reshape(-1, 1)\n",
    "    preds_df = pd.DataFrame(all_user_predicted_ratings, columns = train_df.columns)\n",
    "    #排除持有卡及推薦為持有卡\n",
    "    user_rec_list={}\n",
    "    for user in preds_df.index:\n",
    "        recommend_card=[]\n",
    "        card_rec_sort=preds_df.loc[user].sort_values(ascending=False)\n",
    "        for card,value in card_rec_sort.iteritems():\n",
    "                if value >0:\n",
    "                    if train_df.loc[user,card]==0 and len(recommend_card) <TopN:\n",
    "                                      recommend_card.append(card)\n",
    "        user_rec_list[user]=recommend_card\n",
    "    total_precision=0\n",
    "    total_hit =0\n",
    "    result={}\n",
    "\n",
    "    for user in list(set(test_data['user'])):\n",
    "        user_df=test_data[test_data['user']==user]\n",
    "        user_df_hold=user_df[user_df['value']==1]['variable'].values\n",
    "        hit=sum([1 for item in user_rec_list[user] if item in user_df_hold])\n",
    "        precision=hit/TopN\n",
    "        \n",
    "        total_precision +=precision\n",
    "        total_hit +=hit\n",
    "    result['Precision']=total_precision/len(set(test_data['user']))\n",
    "    result['Hit']=total_hit/len(set(test_data['user']))\n",
    "    #exec_time=\"--- %s seconds ---\" % (time.time() - start_time)\n",
    "    exec_time=(time.time() - start_time)\n",
    "\n",
    "    return result,exec_time\n",
    "    \n",
    "    "
   ]
  },
  {
   "cell_type": "code",
   "execution_count": 22,
   "metadata": {},
   "outputs": [
    {
     "name": "stderr",
     "output_type": "stream",
     "text": [
      "C:\\ProgramData\\Anaconda3\\lib\\site-packages\\ipykernel_launcher.py:4: FutureWarning: Method .as_matrix will be removed in a future version. Use .values instead.\n",
      "  after removing the cwd from sys.path.\n"
     ]
    },
    {
     "data": {
      "text/plain": [
       "{1: ({'Precision': 0.10630426576066289, 'Hit': 0.531521328803322},\n",
       "  10.948560237884521),\n",
       " 2: ({'Precision': 0.09301623254058033, 'Hit': 0.4650811627029068},\n",
       "  10.52107834815979),\n",
       " 3: ({'Precision': 0.0760286900717246, 'Hit': 0.3801434503586259},\n",
       "  10.071678400039673),\n",
       " 4: ({'Precision': 0.060249150622876446, 'Hit': 0.3012457531143828},\n",
       "  9.907576322555542)}"
      ]
     },
     "execution_count": 22,
     "metadata": {},
     "output_type": "execute_result"
    }
   ],
   "source": [
    "svd_result={}\n",
    "for i in range(1,5):\n",
    "    svd_result[i]=SVD_Rec_Evaluate(train_df,i,5)\n",
    "svd_result"
   ]
  },
  {
   "cell_type": "code",
   "execution_count": 36,
   "metadata": {},
   "outputs": [
    {
     "name": "stderr",
     "output_type": "stream",
     "text": [
      "C:\\ProgramData\\Anaconda3\\lib\\site-packages\\ipykernel_launcher.py:4: FutureWarning: Method .as_matrix will be removed in a future version. Use .values instead.\n",
      "  after removing the cwd from sys.path.\n"
     ]
    },
    {
     "name": "stdout",
     "output_type": "stream",
     "text": [
      "[0.10094375235937969, 0.0918837297093233, 0.07308418271045633, 0.05987164967912415, 0.04537561343903394, 0.03503208758021918, 0.022725556813892128, 0.015779539448848637, 0.013514533786334462]\n",
      "[9.579360961914062, 9.641717433929443, 10.11814546585083, 9.42823314666748, 9.393311500549316, 9.064112424850464, 9.109993934631348, 8.391729354858398, 8.358317613601685]\n"
     ]
    }
   ],
   "source": [
    "#減掉mean\n",
    "k=[1,2,3]\n",
    "k.extend(list(range(5,31,5)))\n",
    "precision_s=[]\n",
    "time_s=[]\n",
    "for i in k:\n",
    "    precision_s.append(SVD_Rec_Evaluate(train_df,i,5)[0]['Precision'])\n",
    "    time_s.append(SVD_Rec_Evaluate(train_df,i,5)[1])\n",
    "print(precision_s)\n",
    "print(time_s)"
   ]
  },
  {
   "cell_type": "code",
   "execution_count": null,
   "metadata": {},
   "outputs": [],
   "source": [
    "#無扣掉mean\n",
    "k=[2,3]\n",
    "k.extend(list(range(5,31,5)))\n",
    "precision_s=[]\n",
    "time_s=[]\n",
    "for i in k:\n",
    "    precision_s.append(SVD_Rec_Evaluate(train_df,i,5)[0]['Precision'])\n",
    "    time_s.append(SVD_Rec_Evaluate(train_df,i,5)[1])\n",
    "print(precision_s)\n",
    "print(time_s)"
   ]
  },
  {
   "cell_type": "code",
   "execution_count": null,
   "metadata": {},
   "outputs": [],
   "source": []
  },
  {
   "cell_type": "code",
   "execution_count": 40,
   "metadata": {},
   "outputs": [
    {
     "data": {
      "image/png": "[encoded data removed]",
      "text/plain": [
       "<Figure size 432x288 with 2 Axes>"
      ]
     },
     "metadata": {
      "needs_background": "light"
     },
     "output_type": "display_data"
    }
   ],
   "source": [
    "ke=[2,3]\n",
    "ke.extend(list(range(5,31,5)))\n",
    "t = ke\n",
    "time_u = time_s\n",
    "precision_u =precision_s\n",
    "\n",
    "fig, ax1 = plt.subplots()\n",
    "\n",
    "color = 'tab:red'\n",
    "ax1.set_xlabel('k-features')\n",
    "ax1.set_ylabel('precision', color=color)\n",
    "ax1.plot(t, precision_u[1:], color=color)\n",
    "ax1.tick_params(axis='y', labelcolor=color)\n",
    "\n",
    "ax2 = ax1.twinx()  # instantiate a second axes that shares the same x-axis\n",
    "\n",
    "color = 'tab:blue'\n",
    "ax2.set_ylabel('time', color=color)  # we already handled the x-label with ax1\n",
    "ax2.plot(t, time_u[1:], color=color)\n",
    "ax2.tick_params(axis='y', labelcolor=color)\n",
    "\n",
    "fig.tight_layout()  # otherwise the right y-label is slightly clipped\n",
    "plt.savefig('svd_timeacc.jpg')\n",
    "plt.show()"
   ]
  },
  {
   "cell_type": "code",
   "execution_count": null,
   "metadata": {},
   "outputs": [],
   "source": [
    "def plot_time_prec(alg):\n",
    "k=[1,3]\n",
    "k.extend(list(range(5,31,5)))\n",
    "precision_s=[]\n",
    "time_s=[]\n",
    "for i in [3]:\n",
    "    precision.append(CF_User_Based_Evaluate(train_df,i,5)[0]['Precision'])\n",
    "    time_k.append(CF_User_Based_Evaluate(train_df,i,5)[1])\n",
    "print(precision_s)\n",
    "print(time_s)"
   ]
  },
  {
   "cell_type": "code",
   "execution_count": null,
   "metadata": {},
   "outputs": [],
   "source": [
    "t = [1,3,5]\n",
    "time_s = [10,20,30]\n",
    "precision_s =[0.2,0.5,0.1]\n",
    "\n",
    "fig, ax1 = plt.subplots()\n",
    "\n",
    "color = 'tab:red'\n",
    "ax1.set_xlabel('time (s)')\n",
    "ax1.set_ylabel('precision', color=color)\n",
    "ax1.plot(t, precision_u, color=color)\n",
    "ax1.tick_params(axis='y', labelcolor=color)\n",
    "\n",
    "ax2 = ax1.twinx()  # instantiate a second axes that shares the same x-axis\n",
    "\n",
    "color = 'tab:blue'\n",
    "ax2.set_ylabel('time', color=color)  # we already handled the x-label with ax1\n",
    "ax2.plot(t, time_u, color=color)\n",
    "ax2.tick_params(axis='y', labelcolor=color)\n",
    "\n",
    "fig.tight_layout()  # otherwise the right y-label is slightly clipped\n",
    "plt.show()"
   ]
  },
  {
   "cell_type": "markdown",
   "metadata": {},
   "source": [
    "# 準確度及運算時間畫圖"
   ]
  },
  {
   "cell_type": "code",
   "execution_count": 62,
   "metadata": {},
   "outputs": [],
   "source": [
    "def plot_time_prec(alg,min_k,max_k,seg):\n",
    "    k=[1,3]\n",
    "    k.extend(list(range(min_k,max_k,seg)))\n",
    "    precision_s=[]\n",
    "    time_s=[]\n",
    "    for i in k:\n",
    "        precision_s.append(alg(train_df,i,5)[0]['Precision'])\n",
    "        time_s.append(alg(train_df,i,5)[1])\n",
    "\n",
    "\n",
    "    fig, ax1 = plt.subplots()\n",
    "\n",
    "    color = 'tab:red'\n",
    "    ax1.set_xlabel('time (s)')\n",
    "    ax1.set_ylabel('precision', color=color)\n",
    "    ax1.plot(k, precision_s, color=color)\n",
    "    ax1.tick_params(axis='y', labelcolor=color)\n",
    "\n",
    "    ax2 = ax1.twinx()  # instantiate a second axes that shares the same x-axis\n",
    "\n",
    "    color = 'tab:blue'\n",
    "    ax2.set_ylabel('time', color=color)  # we already handled the x-label with ax1\n",
    "    ax2.plot(k, time_s, color=color)\n",
    "    ax2.tick_params(axis='y', labelcolor=color)\n",
    "\n",
    "    fig.tight_layout()  # otherwise the right y-label is slightly clipped\n",
    "    \n",
    "    return plt.show()"
   ]
  },
  {
   "cell_type": "code",
   "execution_count": 63,
   "metadata": {},
   "outputs": [
    {
     "data": {
      "image/png": "[encoded data removed]",
      "text/plain": [
       "<Figure size 432x288 with 2 Axes>"
      ]
     },
     "metadata": {
      "needs_background": "light"
     },
     "output_type": "display_data"
    }
   ],
   "source": [
    "plot_time_prec(CF_User_Based_Evaluate,1,2,1)"
   ]
  },
  {
   "cell_type": "code",
   "execution_count": null,
   "metadata": {},
   "outputs": [],
   "source": [
    "plot_time_prec"
   ]
  },
  {
   "cell_type": "code",
   "execution_count": 26,
   "metadata": {},
   "outputs": [
    {
     "name": "stderr",
     "output_type": "stream",
     "text": [
      "D:\\Anaconda3\\lib\\site-packages\\ipykernel_launcher.py:4: FutureWarning: Method .as_matrix will be removed in a future version. Use .values instead.\n",
      "  after removing the cwd from sys.path.\n"
     ]
    },
    {
     "data": {
      "text/plain": [
       "({'Precision': 0.10124575311438139, 'Hit': 0.5062287655719139},\n",
       " '--- 28.526090383529663 seconds ---')"
      ]
     },
     "execution_count": 26,
     "metadata": {},
     "output_type": "execute_result"
    }
   ],
   "source": [
    "SVD_Rec_Evaluate(train_df,5,1)"
   ]
  },
  {
   "cell_type": "code",
   "execution_count": 16,
   "metadata": {},
   "outputs": [
    {
     "name": "stderr",
     "output_type": "stream",
     "text": [
      "D:\\Anaconda3\\lib\\site-packages\\ipykernel_launcher.py:4: FutureWarning: Method .as_matrix will be removed in a future version. Use .values instead.\n",
      "  after removing the cwd from sys.path.\n"
     ]
    },
    {
     "data": {
      "text/plain": [
       "{1: ({'Precision': 0.10124575311438139, 'Hit': 0.5062287655719139},\n",
       "  '--- 16.70376491546631 seconds ---'),\n",
       " 2: ({'Precision': 0.09014722536806227, 'Hit': 0.4507361268403171},\n",
       "  '--- 28.300856113433838 seconds ---'),\n",
       " 3: ({'Precision': 0.07044167610418985, 'Hit': 0.3522083805209513},\n",
       "  '--- 43.54500603675842 seconds ---'),\n",
       " 4: ({'Precision': 0.0681766704416757, 'Hit': 0.3408833522083805},\n",
       "  '--- 34.0753972530365 seconds ---')}"
      ]
     },
     "execution_count": 16,
     "metadata": {},
     "output_type": "execute_result"
    }
   ],
   "source": [
    "svd_result={}\n",
    "for i in range(1,5):\n",
    "    svd_result[i]=SVD_Rec_Evaluate(train_df,5,i)\n",
    "svd_result"
   ]
  },
  {
   "cell_type": "code",
   "execution_count": 14,
   "metadata": {},
   "outputs": [
    {
     "name": "stderr",
     "output_type": "stream",
     "text": [
      "D:\\Anaconda3\\lib\\site-packages\\ipykernel_launcher.py:4: FutureWarning: Method .as_matrix will be removed in a future version. Use .values instead.\n",
      "  after removing the cwd from sys.path.\n"
     ]
    },
    {
     "data": {
      "text/plain": [
       "({'Precision': 0.04696111740279389, 'Hit': 0.23480558701396753},\n",
       " '--- 14.768269777297974 seconds ---')"
      ]
     },
     "execution_count": 14,
     "metadata": {},
     "output_type": "execute_result"
    }
   ],
   "source": [
    "SVD_Rec_Evaluate(train_df,5,)"
   ]
  },
  {
   "cell_type": "code",
   "execution_count": 12,
   "metadata": {},
   "outputs": [
    {
     "data": {
      "text/plain": [
       "[({'Precision': 0.011627029067572648, 'Hit': 0.05813514533786335},\n",
       "  '--- 15.680037498474121 seconds ---'),\n",
       " ({'Precision': 0.009739524348810858, 'Hit': 0.04869762174405436},\n",
       "  '--- 30.056437015533447 seconds ---'),\n",
       " ({'Precision': 0.00860702151755378, 'Hit': 0.04303510758776897},\n",
       "  '--- 41.34556245803833 seconds ---'),\n",
       " ({'Precision': 0.006040015100037745, 'Hit': 0.03020007550018875},\n",
       "  '--- 45.17659592628479 seconds ---'),\n",
       " ({'Precision': 0.004228010570026424, 'Hit': 0.021140052850132124},\n",
       "  '--- 26.077417135238647 seconds ---'),\n",
       " ({'Precision': 0.002869007172517933, 'Hit': 0.014345035862589657},\n",
       "  '--- 26.389355897903442 seconds ---'),\n",
       " ({'Precision': 0.002491506228765573, 'Hit': 0.01245753114382786},\n",
       "  '--- 18.15139937400818 seconds ---')]"
      ]
     },
     "execution_count": 12,
     "metadata": {},
     "output_type": "execute_result"
    }
   ],
   "source": [
    "svd_result"
   ]
  },
  {
   "cell_type": "code",
   "execution_count": null,
   "metadata": {},
   "outputs": [],
   "source": []
  }
 ],
 "metadata": {
  "kernelspec": {
   "display_name": "Python 3",
   "language": "python",
   "name": "python3"
  },
  "language_info": {
   "codemirror_mode": {
    "name": "ipython",
    "version": 3
   },
   "file_extension": ".py",
   "mimetype": "text/x-python",
   "name": "python",
   "nbconvert_exporter": "python",
   "pygments_lexer": "ipython3",
   "version": "3.7.3"
  }
 },
 "nbformat": 4,
 "nbformat_minor": 2
}
