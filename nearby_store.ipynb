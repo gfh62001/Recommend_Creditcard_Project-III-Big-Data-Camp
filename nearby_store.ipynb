{
 "cells": [
  {
   "cell_type": "code",
   "execution_count": 1,
   "metadata": {},
   "outputs": [],
   "source": [
    "from geopy.distance import geodesic\n",
    "from geopy.geocoders import Nominatim\n",
    "import googlemaps\n",
    "import requests\n",
    "import pandas as pd\n",
    "from bs4 import BeautifulSoup\n",
    "import json\n",
    "import time"
   ]
  },
  {
   "cell_type": "code",
   "execution_count": 2,
   "metadata": {},
   "outputs": [],
   "source": [
    "df_store_list=pd.read_excel(r'./store_location.xlsx',encoding='utf-16',index_col=0)"
   ]
  },
  {
   "cell_type": "code",
   "execution_count": 43,
   "metadata": {
    "scrolled": true
   },
   "outputs": [],
   "source": [
    "# df_store_list=df_store_list.reset_index()\n",
    "# df_store_list=df_store_list.drop(['index'],axis=1)"
   ]
  },
  {
   "cell_type": "code",
   "execution_count": 66,
   "metadata": {
    "scrolled": true
   },
   "outputs": [
    {
     "data": {
      "text/html": [
       "<div>\n",
       "<style scoped>\n",
       "    .dataframe tbody tr th:only-of-type {\n",
       "        vertical-align: middle;\n",
       "    }\n",
       "\n",
       "    .dataframe tbody tr th {\n",
       "        vertical-align: top;\n",
       "    }\n",
       "\n",
       "    .dataframe thead th {\n",
       "        text-align: right;\n",
       "    }\n",
       "</style>\n",
       "<table border=\"1\" class=\"dataframe\">\n",
       "  <thead>\n",
       "    <tr style=\"text-align: right;\">\n",
       "      <th></th>\n",
       "      <th>store</th>\n",
       "      <th>store_name</th>\n",
       "      <th>address</th>\n",
       "      <th>lat</th>\n",
       "      <th>lng</th>\n",
       "    </tr>\n",
       "  </thead>\n",
       "  <tbody>\n",
       "    <tr>\n",
       "      <th>0</th>\n",
       "      <td>屈臣氏</td>\n",
       "      <td>七堵門市</td>\n",
       "      <td>基隆市七堵區明德一路188號1-2F</td>\n",
       "      <td>25.0975</td>\n",
       "      <td>121.713030</td>\n",
       "    </tr>\n",
       "    <tr>\n",
       "      <th>1</th>\n",
       "      <td>屈臣氏</td>\n",
       "      <td>仁三門市</td>\n",
       "      <td>基隆市仁愛區仁三路68號</td>\n",
       "      <td>25.1289</td>\n",
       "      <td>121.742670</td>\n",
       "    </tr>\n",
       "    <tr>\n",
       "      <th>2</th>\n",
       "      <td>屈臣氏</td>\n",
       "      <td>基隆門市</td>\n",
       "      <td>基隆市仁愛區忠一路8號</td>\n",
       "      <td>25.1309</td>\n",
       "      <td>121.740541</td>\n",
       "    </tr>\n",
       "    <tr>\n",
       "      <th>3</th>\n",
       "      <td>屈臣氏</td>\n",
       "      <td>廟口門市</td>\n",
       "      <td>基隆市仁愛區愛四路76號</td>\n",
       "      <td>25.1296</td>\n",
       "      <td>121.744538</td>\n",
       "    </tr>\n",
       "    <tr>\n",
       "      <th>4</th>\n",
       "      <td>屈臣氏</td>\n",
       "      <td>安一門市</td>\n",
       "      <td>基隆市安樂區安一路115號</td>\n",
       "      <td>25.1318</td>\n",
       "      <td>121.734483</td>\n",
       "    </tr>\n",
       "  </tbody>\n",
       "</table>\n",
       "</div>"
      ],
      "text/plain": [
       "  store store_name             address      lat         lng\n",
       "0   屈臣氏       七堵門市  基隆市七堵區明德一路188號1-2F  25.0975  121.713030\n",
       "1   屈臣氏       仁三門市        基隆市仁愛區仁三路68號  25.1289  121.742670\n",
       "2   屈臣氏       基隆門市         基隆市仁愛區忠一路8號  25.1309  121.740541\n",
       "3   屈臣氏       廟口門市        基隆市仁愛區愛四路76號  25.1296  121.744538\n",
       "4   屈臣氏       安一門市       基隆市安樂區安一路115號  25.1318  121.734483"
      ]
     },
     "execution_count": 66,
     "metadata": {},
     "output_type": "execute_result"
    }
   ],
   "source": [
    "df_store_list.head()"
   ]
  },
  {
   "cell_type": "code",
   "execution_count": 16,
   "metadata": {
    "scrolled": true
   },
   "outputs": [],
   "source": [
    "#設計回傳附近店家優惠函數\n",
    "def near_by_info(lat,lng):\n",
    "    #import googlemaps\n",
    "#     輸入API憑證，上限40000次\n",
    "#     gmap=googlemaps.Client(key='')\n",
    "#     #轉換地址為經緯度\n",
    "#     geocode=gmap.geocode(now_place)\n",
    "#     #若無法轉換成功\n",
    "#     if geocode==[]:\n",
    "#         print('偵測不到位置')\n",
    "\n",
    "    \n",
    "#     else:\n",
    "    #code=geocode[0]['geometry']['location']\n",
    "    #now_code=(code['lat'],code['lng'])\n",
    "    now_code=(lat,lng)\n",
    "    store=[]\n",
    "    addr=[]\n",
    "    info=[]\n",
    "    distance=[]\n",
    "\n",
    "        #找尋資料庫df_store_list中商家位置，計算距離\n",
    "    for i in range(len(df_store_list)):\n",
    "        address=(df_store_list['lat'][i],df_store_list['lng'][i])\n",
    "        #計算當下位置與商家位置距離\n",
    "        dist=geodesic(address,(lat,lng)).kilometers\n",
    "        #若小於5公里\n",
    "        if dist<5:\n",
    "            store.append(df_store_list['store'][i])\n",
    "            if df_store_list['store'][i]=='屈臣氏':\n",
    "                info.append('刷LINEPay卡5%回饋')\n",
    "            elif df_store_list['store'][i]=='美廉社':\n",
    "                info.append('刷LINEPay卡2%回饋')\n",
    "            addr.append(df_store_list['address'][i])\n",
    "            distance.append(str(round(dist,2))+'km')\n",
    "    neardf=pd.DataFrame({'店家':store,'優惠內容':info,'地址':addr,'距離':distance},columns=['店家','優惠內容','地址','距離'])\n",
    "\n",
    "    if len(neardf)==0:\n",
    "        print('附近沒有優惠店家')\n",
    "    else:\n",
    "        return neardf.sort_values(by=['距離'])[:5]\n"
   ]
  },
  {
   "cell_type": "code",
   "execution_count": 17,
   "metadata": {},
   "outputs": [
    {
     "data": {
      "text/html": [
       "<div>\n",
       "<style scoped>\n",
       "    .dataframe tbody tr th:only-of-type {\n",
       "        vertical-align: middle;\n",
       "    }\n",
       "\n",
       "    .dataframe tbody tr th {\n",
       "        vertical-align: top;\n",
       "    }\n",
       "\n",
       "    .dataframe thead th {\n",
       "        text-align: right;\n",
       "    }\n",
       "</style>\n",
       "<table border=\"1\" class=\"dataframe\">\n",
       "  <thead>\n",
       "    <tr style=\"text-align: right;\">\n",
       "      <th></th>\n",
       "      <th>店家</th>\n",
       "      <th>優惠內容</th>\n",
       "      <th>地址</th>\n",
       "      <th>距離</th>\n",
       "    </tr>\n",
       "  </thead>\n",
       "  <tbody>\n",
       "    <tr>\n",
       "      <th>9</th>\n",
       "      <td>屈臣氏</td>\n",
       "      <td>刷LINEPay卡5%回饋</td>\n",
       "      <td>桃園市中壢區新明路41號</td>\n",
       "      <td>0.37km</td>\n",
       "    </tr>\n",
       "    <tr>\n",
       "      <th>23</th>\n",
       "      <td>美廉社</td>\n",
       "      <td>刷LINEPay卡2%回饋</td>\n",
       "      <td>桃園市平鎮區忠孝路188號之9</td>\n",
       "      <td>0.7km</td>\n",
       "    </tr>\n",
       "    <tr>\n",
       "      <th>8</th>\n",
       "      <td>屈臣氏</td>\n",
       "      <td>刷LINEPay卡5%回饋</td>\n",
       "      <td>桃園市中壢區新生路40號</td>\n",
       "      <td>1.17km</td>\n",
       "    </tr>\n",
       "    <tr>\n",
       "      <th>7</th>\n",
       "      <td>屈臣氏</td>\n",
       "      <td>刷LINEPay卡5%回饋</td>\n",
       "      <td>桃園市中壢區新生路182號</td>\n",
       "      <td>1.24km</td>\n",
       "    </tr>\n",
       "    <tr>\n",
       "      <th>2</th>\n",
       "      <td>屈臣氏</td>\n",
       "      <td>刷LINEPay卡5%回饋</td>\n",
       "      <td>桃園市中壢區中正路99、101號1-2F</td>\n",
       "      <td>1.31km</td>\n",
       "    </tr>\n",
       "  </tbody>\n",
       "</table>\n",
       "</div>"
      ],
      "text/plain": [
       "     店家           優惠內容                    地址      距離\n",
       "9   屈臣氏  刷LINEPay卡5%回饋          桃園市中壢區新明路41號  0.37km\n",
       "23  美廉社  刷LINEPay卡2%回饋       桃園市平鎮區忠孝路188號之9   0.7km\n",
       "8   屈臣氏  刷LINEPay卡5%回饋          桃園市中壢區新生路40號  1.17km\n",
       "7   屈臣氏  刷LINEPay卡5%回饋         桃園市中壢區新生路182號  1.24km\n",
       "2   屈臣氏  刷LINEPay卡5%回饋  桃園市中壢區中正路99、101號1-2F  1.31km"
      ]
     },
     "execution_count": 17,
     "metadata": {},
     "output_type": "execute_result"
    }
   ],
   "source": [
    "near_by_info(24.959190, 121.211006)"
   ]
  },
  {
   "cell_type": "code",
   "execution_count": null,
   "metadata": {},
   "outputs": [],
   "source": []
  }
 ],
 "metadata": {
  "kernelspec": {
   "display_name": "Python 3",
   "language": "python",
   "name": "python3"
  },
  "language_info": {
   "codemirror_mode": {
    "name": "ipython",
    "version": 3
   },
   "file_extension": ".py",
   "mimetype": "text/x-python",
   "name": "python",
   "nbconvert_exporter": "python",
   "pygments_lexer": "ipython3",
   "version": "3.7.3"
  }
 },
 "nbformat": 4,
 "nbformat_minor": 2
}
